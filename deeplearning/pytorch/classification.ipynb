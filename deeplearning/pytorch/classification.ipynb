{
 "cells": [
  {
   "cell_type": "markdown",
   "metadata": {},
   "source": [
    "# Classification\n",
    "\n",
    "Types of Classification<br>\n",
    "1. Binary Classification\n",
    "2. Multi-Class Classification\n",
    "3. Multi-Label Classification\n",
    "4. Imbalanced Classification\n",
    "5. Multi-Output Classification\n",
    "\n",
    "Binary Classification<br>\n",
    "In binary classification, the target variable has only two possible outcomes.<br>\n",
    "For example, a binary classification problem would involve predicting whether an email is spam or not spam.<br>\n",
    "\n",
    "Multi-Class Classification<br>\n",
    "In multi-class classification, the target variable has more than two possible outcomes.<br>\n",
    "For example, a multi-class classification problem would involve predicting whether an email is spam, ham, or social.<br>\n",
    "\n",
    "Multi-Label Classification<br>\n",
    "In multi-label classification, the target variable has more than two possible outcomes, and each instance can be assigned multiple labels.<br>\n",
    "For example, a multi-label classification problem would involve predicting whether an email is spam, ham, or social, and whether it is urgent or not urgent."
   ]
  }
 ],
 "metadata": {
  "language_info": {
   "name": "python"
  }
 },
 "nbformat": 4,
 "nbformat_minor": 2
}
