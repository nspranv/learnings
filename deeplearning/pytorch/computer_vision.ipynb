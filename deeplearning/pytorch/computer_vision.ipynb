{
 "cells": [
  {
   "cell_type": "markdown",
   "metadata": {},
   "source": [
    "What is Computer Vision?<br>\n",
    "Computer Vision is a field of study that enables computers to interpret and understand the visual world.\n",
    "\n",
    "What is OpenCV?<br>\n",
    "OpenCV (Open Source Computer Vision Library) is an open source computer vision and machine learning software library.\n",
    "\n",
    "What is Image Processing?<br>\n",
    "Image processing is a method to perform some operations on an image, in order to get an enhanced image or to extract some useful information from it.\n",
    "\n",
    "What is Image Segmentation?<br>\n",
    "Image segmentation is the process of partitioning an image into multiple segments. The goal of segmentation is to simplify and/or change the representation of an image into something that is more meaningful and easier to analyze.\n",
    "\n",
    "What is the role of Image Segmentation in Computer Vision?<br>\n",
    "Image segmentation is typically used to locate objects and boundaries (lines, curves, etc.) in images. More precisely, image segmentation is the process of assigning a label to every pixel in an image such that pixels with the same label share certain characteristics. \n",
    "\n",
    "What is CNN?<br>\n",
    "Convolutional Neural Networks (CNN) are a category of Neural Networks that have proven very effective in areas such as image recognition and classification. CNNs are basically a type of feed-forward artificial neural network in which the connectivity pattern between its neurons is inspired by the organization of the animal visual cortex (in particular, the receptive fields of simple, complex, and hypercomplex cells).\n",
    "\n",
    "What is the role of CNN in Computer Vision?<br>\n",
    "Convolutional Neural Networks (CNN) are a class of deep neural networks, most commonly applied to analyzing visual imagery. They are also known as ConvNets. CNNs are used to identify and recognize patterns in an image, and are the basis for most of the advancements in Computer Vision.\n",
    "\n",
    "What is the difference between CNN and RNN?<br>\n",
    "CNNs are used for image recognition tasks, while RNNs are used for sequence recognition tasks. CNNs are good at capturing spatial information, while RNNs are good at capturing temporal information (time series data).\n",
    "\n",
    "What is the difference between CNN and DNN(Deep Neural Networks)?<br>\n",
    "CNNs are a type of DNN. CNNs are designed to recognize visual patterns directly from pixel images with minimal preprocessing. DNNs are designed to model complex patterns in data using multiple hidden layers. CNNs are a specific kind of DNN that is particularly suited to images.\n",
    "\n",
    "What is the difference between CNN, RNN and tranformers?<br>\n",
    "CNNs are used for image recognition tasks, while RNNs are used for sequence recognition tasks. Transformers are used for sequence recognition tasks as well, but they are more efficient than RNNs. Transformers are more efficient than RNNs because they can process all the input data in parallel, and they do not have to process the data sequentially. And they are more efficient than CNNs because they can capture both spatial by using self-attention mechanism and temporal information."
   ]
  }
 ],
 "metadata": {
  "language_info": {
   "name": "python"
  }
 },
 "nbformat": 4,
 "nbformat_minor": 2
}
